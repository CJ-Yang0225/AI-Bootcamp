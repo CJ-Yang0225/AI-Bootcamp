{
  "nbformat": 4,
  "nbformat_minor": 0,
  "metadata": {
    "colab": {
      "name": "ch1 PyTorch NumPy.ipynb",
      "provenance": [],
      "collapsed_sections": [],
      "authorship_tag": "ABX9TyNG5+k8+5bgDyPSkLqv4F0o"
    },
    "kernelspec": {
      "name": "python3",
      "display_name": "Python 3"
    }
  },
  "cells": [
    {
      "cell_type": "code",
      "metadata": {
        "id": "z8qPrEpAhsJq",
        "colab_type": "code",
        "colab": {}
      },
      "source": [
        "import torch"
      ],
      "execution_count": 1,
      "outputs": []
    },
    {
      "cell_type": "code",
      "metadata": {
        "id": "TWxE1Ixxh3A0",
        "colab_type": "code",
        "colab": {
          "base_uri": "https://localhost:8080/",
          "height": 102
        },
        "outputId": "38231131-fad3-4c91-9c5b-02fc91bcd442"
      },
      "source": [
        "z = torch.Tensor(4,5)\n",
        "print(z)\n",
        "print(z.dtype)"
      ],
      "execution_count": 2,
      "outputs": [
        {
          "output_type": "stream",
          "text": [
            "tensor([[2.7108e-35, 0.0000e+00, 7.0065e-44, 6.7262e-44, 6.3058e-44],\n",
            "        [6.7262e-44, 7.9874e-44, 6.3058e-44, 6.7262e-44, 7.7071e-44],\n",
            "        [1.1771e-43, 6.8664e-44, 7.5670e-44, 8.1275e-44, 7.4269e-44],\n",
            "        [7.1466e-44, 8.1275e-44, 7.1466e-44, 7.1466e-44, 6.4460e-44]])\n",
            "torch.float32\n"
          ],
          "name": "stdout"
        }
      ]
    },
    {
      "cell_type": "code",
      "metadata": {
        "id": "VuqpcT7-i3km",
        "colab_type": "code",
        "colab": {
          "base_uri": "https://localhost:8080/",
          "height": 136
        },
        "outputId": "424a4cfa-9b19-4901-930c-caf921428bbf"
      },
      "source": [
        "a = torch.FloatTensor(4,5)\n",
        "b = torch.FloatTensor([2,3,4,5])\n",
        "print(a)\n",
        "print(a.dtype)\n",
        "print(b)\n",
        "print(b.dtype)"
      ],
      "execution_count": 3,
      "outputs": [
        {
          "output_type": "stream",
          "text": [
            "tensor([[2.7108e-35, 0.0000e+00, 7.0065e-44, 6.7262e-44, 6.3058e-44],\n",
            "        [6.7262e-44, 7.9874e-44, 6.3058e-44, 6.7262e-44, 7.7071e-44],\n",
            "        [1.1771e-43, 6.8664e-44, 7.5670e-44, 8.1275e-44, 7.4269e-44],\n",
            "        [7.1466e-44, 8.1275e-44, 7.1466e-44, 7.1466e-44, 6.4460e-44]])\n",
            "torch.float32\n",
            "tensor([2., 3., 4., 5.])\n",
            "torch.float32\n"
          ],
          "name": "stdout"
        }
      ]
    },
    {
      "cell_type": "code",
      "metadata": {
        "id": "QdaI5durj8nN",
        "colab_type": "code",
        "colab": {
          "base_uri": "https://localhost:8080/",
          "height": 153
        },
        "outputId": "a2168cae-7c97-4e5d-a9f4-52b8ad364542"
      },
      "source": [
        "a = torch.IntTensor(4,5)\n",
        "b = torch.IntTensor([2,3,4,5])\n",
        "print(a)\n",
        "print(a.dtype)\n",
        "print(b)\n",
        "print(b.dtype)"
      ],
      "execution_count": 4,
      "outputs": [
        {
          "output_type": "stream",
          "text": [
            "tensor([[101720576,         0,        50,        48,        45],\n",
            "        [       48,        57,        45,        48,        55],\n",
            "        [       84,        49,        54,        58,        53],\n",
            "        [       51,        58,        51,        51,        46]],\n",
            "       dtype=torch.int32)\n",
            "torch.int32\n",
            "tensor([2, 3, 4, 5], dtype=torch.int32)\n",
            "torch.int32\n"
          ],
          "name": "stdout"
        }
      ]
    },
    {
      "cell_type": "code",
      "metadata": {
        "id": "Fmb5RRa3kn-8",
        "colab_type": "code",
        "colab": {
          "base_uri": "https://localhost:8080/",
          "height": 102
        },
        "outputId": "23531080-25b2-43bb-8393-ef9d89dd21c5"
      },
      "source": [
        "y = a + z\n",
        "print(y)\n",
        "print(y.dtype)"
      ],
      "execution_count": 5,
      "outputs": [
        {
          "output_type": "stream",
          "text": [
            "tensor([[1.0172e+08, 0.0000e+00, 5.0000e+01, 4.8000e+01, 4.5000e+01],\n",
            "        [4.8000e+01, 5.7000e+01, 4.5000e+01, 4.8000e+01, 5.5000e+01],\n",
            "        [8.4000e+01, 4.9000e+01, 5.4000e+01, 5.8000e+01, 5.3000e+01],\n",
            "        [5.1000e+01, 5.8000e+01, 5.1000e+01, 5.1000e+01, 4.6000e+01]])\n",
            "torch.float32\n"
          ],
          "name": "stdout"
        }
      ]
    },
    {
      "cell_type": "code",
      "metadata": {
        "id": "CZ5rTlfho0lU",
        "colab_type": "code",
        "colab": {
          "base_uri": "https://localhost:8080/",
          "height": 85
        },
        "outputId": "f3ae3987-9120-4807-8811-18c2de52c3be"
      },
      "source": [
        "print(torch.add(a,z))"
      ],
      "execution_count": 6,
      "outputs": [
        {
          "output_type": "stream",
          "text": [
            "tensor([[1.0172e+08, 0.0000e+00, 5.0000e+01, 4.8000e+01, 4.5000e+01],\n",
            "        [4.8000e+01, 5.7000e+01, 4.5000e+01, 4.8000e+01, 5.5000e+01],\n",
            "        [8.4000e+01, 4.9000e+01, 5.4000e+01, 5.8000e+01, 5.3000e+01],\n",
            "        [5.1000e+01, 5.8000e+01, 5.1000e+01, 5.1000e+01, 4.6000e+01]])\n"
          ],
          "name": "stdout"
        }
      ]
    },
    {
      "cell_type": "code",
      "metadata": {
        "id": "ANU0pZUOpVqT",
        "colab_type": "code",
        "colab": {
          "base_uri": "https://localhost:8080/",
          "height": 85
        },
        "outputId": "54ace6ee-8987-4510-f6c2-49949ea4e5cb"
      },
      "source": [
        "b = a.numpy()\n",
        "print(b)"
      ],
      "execution_count": 7,
      "outputs": [
        {
          "output_type": "stream",
          "text": [
            "[[101720576         0        50        48        45]\n",
            " [       48        57        45        48        55]\n",
            " [       84        49        54        58        53]\n",
            " [       51        58        51        51        46]]\n"
          ],
          "name": "stdout"
        }
      ]
    },
    {
      "cell_type": "code",
      "metadata": {
        "id": "kZBfyJqGp9wN",
        "colab_type": "code",
        "colab": {}
      },
      "source": [
        "import numpy as np"
      ],
      "execution_count": 8,
      "outputs": []
    },
    {
      "cell_type": "code",
      "metadata": {
        "id": "9TVCnjtzqAx7",
        "colab_type": "code",
        "colab": {
          "base_uri": "https://localhost:8080/",
          "height": 51
        },
        "outputId": "d6907113-9940-48ed-a0cc-9d86be7eb3b1"
      },
      "source": [
        "a = np.ones(5)\n",
        "b = torch.from_numpy(a)\n",
        "print(a)\n",
        "print(b)"
      ],
      "execution_count": 9,
      "outputs": [
        {
          "output_type": "stream",
          "text": [
            "[1. 1. 1. 1. 1.]\n",
            "tensor([1., 1., 1., 1., 1.], dtype=torch.float64)\n"
          ],
          "name": "stdout"
        }
      ]
    },
    {
      "cell_type": "code",
      "metadata": {
        "id": "j4JF3JeWq_9z",
        "colab_type": "code",
        "colab": {
          "base_uri": "https://localhost:8080/",
          "height": 51
        },
        "outputId": "d576f77f-0539-4cd9-bdc8-fe4510aa6bbf"
      },
      "source": [
        "c = b.float()\n",
        "print(c)\n",
        "print(c.dtype)"
      ],
      "execution_count": 10,
      "outputs": [
        {
          "output_type": "stream",
          "text": [
            "tensor([1., 1., 1., 1., 1.])\n",
            "torch.float32\n"
          ],
          "name": "stdout"
        }
      ]
    },
    {
      "cell_type": "code",
      "metadata": {
        "id": "X5oVxlCBrGRE",
        "colab_type": "code",
        "colab": {
          "base_uri": "https://localhost:8080/",
          "height": 34
        },
        "outputId": "90f90ff6-4cd8-486c-814a-43fe7098aa45"
      },
      "source": [
        "print(c.int())"
      ],
      "execution_count": 11,
      "outputs": [
        {
          "output_type": "stream",
          "text": [
            "tensor([1, 1, 1, 1, 1], dtype=torch.int32)\n"
          ],
          "name": "stdout"
        }
      ]
    },
    {
      "cell_type": "code",
      "metadata": {
        "id": "HHeWBKZps9H7",
        "colab_type": "code",
        "colab": {
          "base_uri": "https://localhost:8080/",
          "height": 187
        },
        "outputId": "695d34cf-dd8a-4412-f069-204ee793f036"
      },
      "source": [
        "x = torch.zeros(2,1,2,1,2) # 有時會想多加一個沒有厚度的維度\n",
        "print(x)\n",
        "x.size()"
      ],
      "execution_count": 12,
      "outputs": [
        {
          "output_type": "stream",
          "text": [
            "tensor([[[[[0., 0.]],\n",
            "\n",
            "          [[0., 0.]]]],\n",
            "\n",
            "\n",
            "\n",
            "        [[[[0., 0.]],\n",
            "\n",
            "          [[0., 0.]]]]])\n"
          ],
          "name": "stdout"
        },
        {
          "output_type": "execute_result",
          "data": {
            "text/plain": [
              "torch.Size([2, 1, 2, 1, 2])"
            ]
          },
          "metadata": {
            "tags": []
          },
          "execution_count": 12
        }
      ]
    },
    {
      "cell_type": "markdown",
      "metadata": {
        "id": "hXhTyrORK98P",
        "colab_type": "text"
      },
      "source": [
        "Tensor(2,1,3) \n",
        "-> 由d2(3)開始看 [1,2,3] \n",
        "-> [[1,2,3]] \n",
        "-> [[[1,2,3]],[[5,6,7]]]"
      ]
    },
    {
      "cell_type": "code",
      "metadata": {
        "id": "66hHbGVXtKyj",
        "colab_type": "code",
        "colab": {
          "base_uri": "https://localhost:8080/",
          "height": 119
        },
        "outputId": "f6cecb71-88b4-409a-97ae-fee080e793f3"
      },
      "source": [
        "y = x.squeeze() # 再透過squeeze消除\n",
        "print(y)\n",
        "y.size()"
      ],
      "execution_count": 13,
      "outputs": [
        {
          "output_type": "stream",
          "text": [
            "tensor([[[0., 0.],\n",
            "         [0., 0.]],\n",
            "\n",
            "        [[0., 0.],\n",
            "         [0., 0.]]])\n"
          ],
          "name": "stdout"
        },
        {
          "output_type": "execute_result",
          "data": {
            "text/plain": [
              "torch.Size([2, 2, 2])"
            ]
          },
          "metadata": {
            "tags": []
          },
          "execution_count": 13
        }
      ]
    },
    {
      "cell_type": "code",
      "metadata": {
        "id": "l51S26-rtTvr",
        "colab_type": "code",
        "colab": {
          "base_uri": "https://localhost:8080/",
          "height": 34
        },
        "outputId": "bd4c7df6-d052-4f08-bfff-2c7bc40f2321"
      },
      "source": [
        "z = x.squeeze(0) # 對維度0\n",
        "z.size()"
      ],
      "execution_count": 14,
      "outputs": [
        {
          "output_type": "execute_result",
          "data": {
            "text/plain": [
              "torch.Size([2, 1, 2, 1, 2])"
            ]
          },
          "metadata": {
            "tags": []
          },
          "execution_count": 14
        }
      ]
    },
    {
      "cell_type": "code",
      "metadata": {
        "id": "toiGbpRsuw5b",
        "colab_type": "code",
        "colab": {
          "base_uri": "https://localhost:8080/",
          "height": 34
        },
        "outputId": "922510d7-b12c-43a8-ae4d-b9a68f4aa3b4"
      },
      "source": [
        "z = x.squeeze(1)\n",
        "z.size()"
      ],
      "execution_count": 15,
      "outputs": [
        {
          "output_type": "execute_result",
          "data": {
            "text/plain": [
              "torch.Size([2, 2, 1, 2])"
            ]
          },
          "metadata": {
            "tags": []
          },
          "execution_count": 15
        }
      ]
    },
    {
      "cell_type": "markdown",
      "metadata": {
        "id": "1zUErJu9vKo-",
        "colab_type": "text"
      },
      "source": [
        ""
      ]
    },
    {
      "cell_type": "code",
      "metadata": {
        "id": "qK7IcgF8vV4T",
        "colab_type": "code",
        "colab": {
          "base_uri": "https://localhost:8080/",
          "height": 34
        },
        "outputId": "73538b88-5eaf-4efb-a640-eb00e2f173b9"
      },
      "source": [
        "torch.abs(torch.FloatTensor([-1,-2,-3]))"
      ],
      "execution_count": 16,
      "outputs": [
        {
          "output_type": "execute_result",
          "data": {
            "text/plain": [
              "tensor([1., 2., 3.])"
            ]
          },
          "metadata": {
            "tags": []
          },
          "execution_count": 16
        }
      ]
    },
    {
      "cell_type": "code",
      "metadata": {
        "id": "QBn2zl3Pv3eC",
        "colab_type": "code",
        "colab": {
          "base_uri": "https://localhost:8080/",
          "height": 34
        },
        "outputId": "135b2b92-2d37-4988-df6a-df0f146797ed"
      },
      "source": [
        "a = torch.randn(4) # 有正負\n",
        "a"
      ],
      "execution_count": 17,
      "outputs": [
        {
          "output_type": "execute_result",
          "data": {
            "text/plain": [
              "tensor([ 0.0101, -0.1027,  0.8979, -0.8885])"
            ]
          },
          "metadata": {
            "tags": []
          },
          "execution_count": 17
        }
      ]
    },
    {
      "cell_type": "code",
      "metadata": {
        "id": "GRHx2r1qv8mN",
        "colab_type": "code",
        "colab": {
          "base_uri": "https://localhost:8080/",
          "height": 34
        },
        "outputId": "9b70d8dd-814f-4acd-b018-352e7606cd09"
      },
      "source": [
        "b = torch.add(a,-20)\n",
        "b"
      ],
      "execution_count": 18,
      "outputs": [
        {
          "output_type": "execute_result",
          "data": {
            "text/plain": [
              "tensor([-19.9899, -20.1027, -19.1021, -20.8885])"
            ]
          },
          "metadata": {
            "tags": []
          },
          "execution_count": 18
        }
      ]
    },
    {
      "cell_type": "code",
      "metadata": {
        "id": "xkSuhPItwI6J",
        "colab_type": "code",
        "colab": {
          "base_uri": "https://localhost:8080/",
          "height": 34
        },
        "outputId": "c6c43194-06d2-4390-ba4d-6246b9571e8b"
      },
      "source": [
        "c = torch.mul(a,b) # 對應位置相乘\n",
        "c"
      ],
      "execution_count": 19,
      "outputs": [
        {
          "output_type": "execute_result",
          "data": {
            "text/plain": [
              "tensor([ -0.2022,   2.0638, -17.1526,  18.5597])"
            ]
          },
          "metadata": {
            "tags": []
          },
          "execution_count": 19
        }
      ]
    },
    {
      "cell_type": "code",
      "metadata": {
        "id": "MMvR9JYZwT0q",
        "colab_type": "code",
        "colab": {
          "base_uri": "https://localhost:8080/",
          "height": 102
        },
        "outputId": "9d7c7062-2b9d-4a87-e4cc-1d5295730ef7"
      },
      "source": [
        "x = torch.rand(2,3)\n",
        "y = torch.rand(3,2)\n",
        "print(x)\n",
        "print(y)"
      ],
      "execution_count": 20,
      "outputs": [
        {
          "output_type": "stream",
          "text": [
            "tensor([[0.4821, 0.4846, 0.5198],\n",
            "        [0.3661, 0.5540, 0.5049]])\n",
            "tensor([[0.6897, 0.1840],\n",
            "        [0.4684, 0.0906],\n",
            "        [0.2206, 0.3702]])\n"
          ],
          "name": "stdout"
        }
      ]
    },
    {
      "cell_type": "code",
      "metadata": {
        "id": "tIJHoA74xAFS",
        "colab_type": "code",
        "colab": {
          "base_uri": "https://localhost:8080/",
          "height": 51
        },
        "outputId": "78822b4d-8718-455d-da16-3b3735b62105"
      },
      "source": [
        "z = torch.matmul(x,y) # 2x3 * 3x2 = 2x2\n",
        "z"
      ],
      "execution_count": 21,
      "outputs": [
        {
          "output_type": "execute_result",
          "data": {
            "text/plain": [
              "tensor([[0.6742, 0.3251],\n",
              "        [0.6234, 0.3045]])"
            ]
          },
          "metadata": {
            "tags": []
          },
          "execution_count": 21
        }
      ]
    },
    {
      "cell_type": "code",
      "metadata": {
        "id": "vdVkyT9CyoOi",
        "colab_type": "code",
        "colab": {
          "base_uri": "https://localhost:8080/",
          "height": 68
        },
        "outputId": "31696100-099c-46c4-f030-36290ab300a5"
      },
      "source": [
        "z = torch.matmul(y,x)\n",
        "z"
      ],
      "execution_count": 22,
      "outputs": [
        {
          "output_type": "execute_result",
          "data": {
            "text/plain": [
              "tensor([[0.3999, 0.4362, 0.4514],\n",
              "        [0.2590, 0.2772, 0.2893],\n",
              "        [0.2419, 0.3120, 0.3016]])"
            ]
          },
          "metadata": {
            "tags": []
          },
          "execution_count": 22
        }
      ]
    },
    {
      "cell_type": "code",
      "metadata": {
        "id": "k2fWejkzxPoC",
        "colab_type": "code",
        "colab": {
          "base_uri": "https://localhost:8080/",
          "height": 34
        },
        "outputId": "a3f39e1f-92b0-4a32-8d3e-6466ef13ae95"
      },
      "source": [
        "torch.mean(z) # 平均"
      ],
      "execution_count": 23,
      "outputs": [
        {
          "output_type": "execute_result",
          "data": {
            "text/plain": [
              "tensor(0.3298)"
            ]
          },
          "metadata": {
            "tags": []
          },
          "execution_count": 23
        }
      ]
    },
    {
      "cell_type": "code",
      "metadata": {
        "id": "oI9f96eYxykC",
        "colab_type": "code",
        "colab": {
          "base_uri": "https://localhost:8080/",
          "height": 34
        },
        "outputId": "9e6642b1-9a69-4aed-d3ed-281ebbb8f62d"
      },
      "source": [
        "torch.mean(z,0) # 對0維度((v1+v2+v3)/3)平均"
      ],
      "execution_count": 24,
      "outputs": [
        {
          "output_type": "execute_result",
          "data": {
            "text/plain": [
              "tensor([0.3003, 0.3418, 0.3474])"
            ]
          },
          "metadata": {
            "tags": []
          },
          "execution_count": 24
        }
      ]
    },
    {
      "cell_type": "code",
      "metadata": {
        "id": "uMURUOOmyayy",
        "colab_type": "code",
        "colab": {
          "base_uri": "https://localhost:8080/",
          "height": 34
        },
        "outputId": "5eede2cb-2727-4d2d-e7eb-037275c0d8c8"
      },
      "source": [
        "torch.mean(z,1)"
      ],
      "execution_count": 25,
      "outputs": [
        {
          "output_type": "execute_result",
          "data": {
            "text/plain": [
              "tensor([0.4292, 0.2752, 0.2851])"
            ]
          },
          "metadata": {
            "tags": []
          },
          "execution_count": 25
        }
      ]
    },
    {
      "cell_type": "code",
      "metadata": {
        "id": "FO8IoO2py0pS",
        "colab_type": "code",
        "colab": {
          "base_uri": "https://localhost:8080/",
          "height": 51
        },
        "outputId": "29349c56-4399-4314-a927-e33caebca45a"
      },
      "source": [
        "x = torch.Tensor([[1,2],[3,4]])\n",
        "y = torch.Tensor([[1,1],[4,4]])\n",
        "torch.eq(x,y)"
      ],
      "execution_count": 26,
      "outputs": [
        {
          "output_type": "execute_result",
          "data": {
            "text/plain": [
              "tensor([[ True, False],\n",
              "        [False,  True]])"
            ]
          },
          "metadata": {
            "tags": []
          },
          "execution_count": 26
        }
      ]
    },
    {
      "cell_type": "code",
      "metadata": {
        "id": "fglXRUpIMYBE",
        "colab_type": "code",
        "colab": {
          "base_uri": "https://localhost:8080/",
          "height": 51
        },
        "outputId": "25288200-5275-42ab-db3a-d6946bdf7bc4"
      },
      "source": [
        "torch.ge(x,y)"
      ],
      "execution_count": 27,
      "outputs": [
        {
          "output_type": "execute_result",
          "data": {
            "text/plain": [
              "tensor([[ True,  True],\n",
              "        [False,  True]])"
            ]
          },
          "metadata": {
            "tags": []
          },
          "execution_count": 27
        }
      ]
    },
    {
      "cell_type": "code",
      "metadata": {
        "id": "oJKfy8NMNZH1",
        "colab_type": "code",
        "colab": {
          "base_uri": "https://localhost:8080/",
          "height": 51
        },
        "outputId": "e14fa1c8-9dc5-4cea-d77c-38caff9ec828"
      },
      "source": [
        "torch.gt(x,y)"
      ],
      "execution_count": 28,
      "outputs": [
        {
          "output_type": "execute_result",
          "data": {
            "text/plain": [
              "tensor([[False,  True],\n",
              "        [False, False]])"
            ]
          },
          "metadata": {
            "tags": []
          },
          "execution_count": 28
        }
      ]
    },
    {
      "cell_type": "code",
      "metadata": {
        "id": "EocSS3r1NbMd",
        "colab_type": "code",
        "colab": {
          "base_uri": "https://localhost:8080/",
          "height": 51
        },
        "outputId": "3fa91960-ce71-44a6-f1aa-99c2aaca4eb0"
      },
      "source": [
        "torch.le(x,y)"
      ],
      "execution_count": 29,
      "outputs": [
        {
          "output_type": "execute_result",
          "data": {
            "text/plain": [
              "tensor([[ True, False],\n",
              "        [ True,  True]])"
            ]
          },
          "metadata": {
            "tags": []
          },
          "execution_count": 29
        }
      ]
    },
    {
      "cell_type": "code",
      "metadata": {
        "id": "bkDPgNZlNfbt",
        "colab_type": "code",
        "colab": {
          "base_uri": "https://localhost:8080/",
          "height": 51
        },
        "outputId": "c6a6756a-d42a-4a5f-a59e-c01a6312d9cf"
      },
      "source": [
        "torch.lt(x,y)"
      ],
      "execution_count": 30,
      "outputs": [
        {
          "output_type": "execute_result",
          "data": {
            "text/plain": [
              "tensor([[False, False],\n",
              "        [ True, False]])"
            ]
          },
          "metadata": {
            "tags": []
          },
          "execution_count": 30
        }
      ]
    },
    {
      "cell_type": "code",
      "metadata": {
        "id": "h2cU4h4XNiWF",
        "colab_type": "code",
        "colab": {
          "base_uri": "https://localhost:8080/",
          "height": 34
        },
        "outputId": "113cde15-b2ce-464a-cc10-d855ac86ab05"
      },
      "source": [
        "torch.equal(x,y)"
      ],
      "execution_count": 31,
      "outputs": [
        {
          "output_type": "execute_result",
          "data": {
            "text/plain": [
              "False"
            ]
          },
          "metadata": {
            "tags": []
          },
          "execution_count": 31
        }
      ]
    }
  ]
}